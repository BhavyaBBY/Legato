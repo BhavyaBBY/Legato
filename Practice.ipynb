{
 "cells": [
  {
   "cell_type": "code",
   "execution_count": 1,
   "id": "fa5dd0c2",
   "metadata": {},
   "outputs": [
    {
     "ename": "NameError",
     "evalue": "name 'Print' is not defined",
     "output_type": "error",
     "traceback": [
      "\u001b[1;31m---------------------------------------------------------------------------\u001b[0m",
      "\u001b[1;31mNameError\u001b[0m                                 Traceback (most recent call last)",
      "\u001b[1;32m<ipython-input-1-fb066905c7fb>\u001b[0m in \u001b[0;36m<module>\u001b[1;34m\u001b[0m\n\u001b[1;32m----> 1\u001b[1;33m \u001b[0mPrint\u001b[0m\u001b[1;33m(\u001b[0m\u001b[1;34m\"hello\"\u001b[0m\u001b[1;33m)\u001b[0m\u001b[1;33m\u001b[0m\u001b[1;33m\u001b[0m\u001b[0m\n\u001b[0m",
      "\u001b[1;31mNameError\u001b[0m: name 'Print' is not defined"
     ]
    }
   ],
   "source": [
    "Print(\"hello\")"
   ]
  },
  {
   "cell_type": "code",
   "execution_count": null,
   "id": "876baf86",
   "metadata": {},
   "outputs": [],
   "source": [
    "print(\"Hello\");"
   ]
  },
  {
   "cell_type": "code",
   "execution_count": 21,
   "id": "f5bfe644",
   "metadata": {},
   "outputs": [
    {
     "name": "stdout",
     "output_type": "stream",
     "text": [
      "134.0\n"
     ]
    }
   ],
   "source": [
    "a = 104.000\n",
    "type(a)\n",
    "b = 30\n",
    "c = a + b\n",
    "print(c);"
   ]
  },
  {
   "cell_type": "code",
   "execution_count": 24,
   "id": "ee0ab212",
   "metadata": {},
   "outputs": [],
   "source": [
    "# control + enter to run the kernel\n",
    "# control + forward slash - to comment multiple lines at a time\n",
    "# kjdslfjk\n",
    "# ksdjfjkjd\n",
    "# kdsfsdh\n",
    "'''akdkjfks\n",
    "jkhkhkhkhk\n",
    "khkjhkhk\n",
    "hkhkjhk''';\n"
   ]
  },
  {
   "cell_type": "code",
   "execution_count": 6,
   "id": "81dd1cea",
   "metadata": {},
   "outputs": [],
   "source": [
    "a = b = c = 1"
   ]
  },
  {
   "cell_type": "code",
   "execution_count": 8,
   "id": "30075b92",
   "metadata": {},
   "outputs": [
    {
     "data": {
      "text/plain": [
       "2"
      ]
     },
     "execution_count": 8,
     "metadata": {},
     "output_type": "execute_result"
    }
   ],
   "source": [
    "a,b,c = 1,2,\"John\"\n",
    "a\n",
    "b"
   ]
  },
  {
   "cell_type": "code",
   "execution_count": 18,
   "id": "e672a5b6",
   "metadata": {},
   "outputs": [
    {
     "name": "stdout",
     "output_type": "stream",
     "text": [
      "holiday\n",
      "h\n",
      "lid\n",
      "liday\n",
      "todaytoday\n",
      "holiday holiday\n",
      "holiday today\n",
      "holiday holiday\n",
      "I want to declare today is holiday\n",
      "I want to declare holiday - today\n"
     ]
    },
    {
     "data": {
      "text/plain": [
       "'today'"
      ]
     },
     "execution_count": 18,
     "metadata": {},
     "output_type": "execute_result"
    }
   ],
   "source": [
    "a = \"holiday\"\n",
    "b = \"today\"\n",
    "print(a)\n",
    "print(a[0])\n",
    "print(a[2:5])\n",
    "print(a[2:])\n",
    "print(2*b)\n",
    "print(a + \" holiday\")\n",
    "print(a +\" \" + b)\n",
    "print(a +\" \" + a)\n",
    "# a[0:2]\n",
    "a.find('day')\n",
    "a.replace('day','imonth')\n",
    "print(\"I want to declare {} is {}\".format(b,a))\n",
    "print(f\"I want to declare {a} - {b}\")\n",
    "a.replace(a[a.find('h')],'M')\n",
    "#dir(a)\n",
    "# variable can be deleted using below syntax\n",
    "#del a\n",
    "b"
   ]
  },
  {
   "cell_type": "code",
   "execution_count": 20,
   "id": "464e07f2",
   "metadata": {},
   "outputs": [
    {
     "name": "stdout",
     "output_type": "stream",
     "text": [
      "['bhavya', 'priyanka', 'Anasuya', 2]\n",
      "['bhavya', 'priyanka', 'Anasuya', 2]\n",
      "['bhavya', 'priyanka']\n",
      "['priyanka', 'Anasuya']\n",
      "['bhavya', 'priyanka', 'Anasuya', 2, 'bhavya', 'priyanka', 'Anasuya', 2]\n",
      "['bhavya', 'priyanka', 'Anasuya', 2, '1', 2.0, 'Practice']\n",
      "<class 'list'>\n",
      "['__add__', '__class__', '__contains__', '__delattr__', '__delitem__', '__dir__', '__doc__', '__eq__', '__format__', '__ge__', '__getattribute__', '__getitem__', '__gt__', '__hash__', '__iadd__', '__imul__', '__init__', '__init_subclass__', '__iter__', '__le__', '__len__', '__lt__', '__mul__', '__ne__', '__new__', '__reduce__', '__reduce_ex__', '__repr__', '__reversed__', '__rmul__', '__setattr__', '__setitem__', '__sizeof__', '__str__', '__subclasshook__', 'append', 'clear', 'copy', 'count', 'extend', 'index', 'insert', 'pop', 'remove', 'reverse', 'sort']\n",
      "['bhavya', 'priyanka', 2, 'Bhavyabb']\n"
     ]
    }
   ],
   "source": [
    "list = ['bhavya','priyanka','Anasuya',2]\n",
    "Tinylist = ['1',2.000,'Practice']\n",
    "print(list)\n",
    "print(list[:])\n",
    "print(list[0:2])\n",
    "print(list[1:3])\n",
    "print(list*2)\n",
    "print(list + Tinylist) \n",
    "print(type(list))\n",
    "list[-2:]\n",
    "print(dir(list))\n",
    "list.append('Bhavyabb') # append in the last \n",
    "list.pop(2) #will delete that particular index\n",
    "print(list)"
   ]
  },
  {
   "cell_type": "code",
   "execution_count": 10,
   "id": "b33dfce1",
   "metadata": {},
   "outputs": [
    {
     "data": {
      "text/plain": [
       "'Anasuya'"
      ]
     },
     "execution_count": 10,
     "metadata": {},
     "output_type": "execute_result"
    }
   ],
   "source": [
    "list.pop(2)"
   ]
  },
  {
   "cell_type": "code",
   "execution_count": 19,
   "id": "276e9427",
   "metadata": {},
   "outputs": [
    {
     "name": "stdout",
     "output_type": "stream",
     "text": [
      "('bhavya', 'priyanka', 'Anasuya')\n",
      "('bhavya', 'priyanka', 'Anasuya')\n",
      "('bhavya', 'priyanka')\n",
      "('priyanka', 'Anasuya')\n",
      "('bhavya', 'priyanka', 'Anasuya', 'bhavya', 'priyanka', 'Anasuya')\n",
      "('bhavya', 'priyanka', 'Anasuya', '1', '2.000', 'Practice')\n",
      "('priyanka', 'Anasuya')\n"
     ]
    },
    {
     "data": {
      "text/plain": [
       "['__add__',\n",
       " '__class__',\n",
       " '__contains__',\n",
       " '__delattr__',\n",
       " '__dir__',\n",
       " '__doc__',\n",
       " '__eq__',\n",
       " '__format__',\n",
       " '__ge__',\n",
       " '__getattribute__',\n",
       " '__getitem__',\n",
       " '__getnewargs__',\n",
       " '__gt__',\n",
       " '__hash__',\n",
       " '__init__',\n",
       " '__init_subclass__',\n",
       " '__iter__',\n",
       " '__le__',\n",
       " '__len__',\n",
       " '__lt__',\n",
       " '__mul__',\n",
       " '__ne__',\n",
       " '__new__',\n",
       " '__reduce__',\n",
       " '__reduce_ex__',\n",
       " '__repr__',\n",
       " '__rmul__',\n",
       " '__setattr__',\n",
       " '__sizeof__',\n",
       " '__str__',\n",
       " '__subclasshook__',\n",
       " 'count',\n",
       " 'index']"
      ]
     },
     "execution_count": 19,
     "metadata": {},
     "output_type": "execute_result"
    }
   ],
   "source": [
    "# tuple is read only list, it is denoted in parenthesis as below, we can able to modify or delete the data in tupple\n",
    "list = ('bhavya','priyanka','Anasuya')\n",
    "Tinylist = ('1','2.000','Practice')\n",
    "print(list)\n",
    "print(list[:])\n",
    "print(list[0:2])\n",
    "print(list[1:3])\n",
    "print(list*2)\n",
    "print(list + Tinylist) \n",
    "print(list[-2:])\n",
    "dir(list)\n"
   ]
  },
  {
   "cell_type": "code",
   "execution_count": 76,
   "id": "22d219af",
   "metadata": {},
   "outputs": [
    {
     "name": "stdout",
     "output_type": "stream",
     "text": [
      "{'name': 'bhavya', 'age': 16, 'city': 'bangalore'}\n",
      "dict_keys(['name', 'age', 'city'])\n",
      "dict_values(['bhavya', 16, 'bangalore'])\n",
      "this is the first set\n",
      "this second set\n",
      "{'one': 'this is the first set', 2: 'this second set'}\n",
      "dict_items([('name', 'bhavya'), ('education', 'Btech'), ('height', 5.6)])\n",
      "{'name': 'bhavya', 'education': 'Btech'}\n"
     ]
    }
   ],
   "source": [
    "#dictionary \n",
    "list={}\n",
    "list['one']= \"this is the first set\"\n",
    "list[2] = \"this second set\"\n",
    "list1 ={'name': 'bhavya','age':16,'city':'bangalore'}\n",
    "print(list1)\n",
    "print(list1.keys())\n",
    "print(list1.values())\n",
    "print(list['one'])\n",
    "print(list[2])\n",
    "print(list)\n",
    "\n",
    "del list1['age']\n",
    "\n",
    "\n",
    "list1.pop('city')\n",
    "list1['education'] = 'Btech'\n",
    "list1['height'] = 5.6\n",
    "print(list1.items())\n",
    "\n",
    "#popitem delete the data from the last\n",
    "list1.popitem()\n",
    "print(list1)\n",
    "\n",
    "#dictionary won't support the duplicate values for the same key, instead it update the value and return the latest value\n"
   ]
  },
  {
   "cell_type": "code",
   "execution_count": 35,
   "id": "51ccd099",
   "metadata": {},
   "outputs": [
    {
     "data": {
      "text/plain": [
       "dict_items([('name', 'bhavya'), ('age', 16), ('city', 'bangalore')])"
      ]
     },
     "execution_count": 35,
     "metadata": {},
     "output_type": "execute_result"
    }
   ],
   "source": [
    "list1.items()"
   ]
  },
  {
   "cell_type": "code",
   "execution_count": 100,
   "id": "e1c4cc43",
   "metadata": {},
   "outputs": [
    {
     "name": "stdout",
     "output_type": "stream",
     "text": [
      "['anasuya', 'bhavya', 2]\n"
     ]
    },
    {
     "data": {
      "text/plain": [
       "dict_items([('name', ['anasuya', 'bhavya', 2]), ('age', 16), ('city', 'bangalore')])"
      ]
     },
     "execution_count": 100,
     "metadata": {},
     "output_type": "execute_result"
    }
   ],
   "source": [
    "list1['name']=['anasuya','bhavya',2]\n",
    "list1.items()\n",
    "print(list1['name'])\n",
    "list1.items()"
   ]
  },
  {
   "cell_type": "code",
   "execution_count": 1,
   "id": "aee06feb",
   "metadata": {},
   "outputs": [
    {
     "data": {
      "text/plain": [
       "['appl', 'goog']"
      ]
     },
     "execution_count": 1,
     "metadata": {},
     "output_type": "execute_result"
    }
   ],
   "source": [
    "    shares ={'appl':100 ,'goog':50}\n",
    "list(shares)\n"
   ]
  },
  {
   "cell_type": "code",
   "execution_count": 116,
   "id": "1eea6e1f",
   "metadata": {},
   "outputs": [
    {
     "ename": "TypeError",
     "evalue": "'dict' object is not callable",
     "output_type": "error",
     "traceback": [
      "\u001b[1;31m---------------------------------------------------------------------------\u001b[0m",
      "\u001b[1;31mTypeError\u001b[0m                                 Traceback (most recent call last)",
      "\u001b[1;32m<ipython-input-116-92b9c92ec39c>\u001b[0m in \u001b[0;36m<module>\u001b[1;34m\u001b[0m\n\u001b[1;32m----> 1\u001b[1;33m \u001b[0mlist\u001b[0m\u001b[1;33m(\u001b[0m\u001b[0mshares\u001b[0m\u001b[1;33m)\u001b[0m\u001b[1;33m\u001b[0m\u001b[1;33m\u001b[0m\u001b[0m\n\u001b[0m",
      "\u001b[1;31mTypeError\u001b[0m: 'dict' object is not callable"
     ]
    }
   ],
   "source": []
  },
  {
   "cell_type": "code",
   "execution_count": 88,
   "id": "e6878cef",
   "metadata": {},
   "outputs": [
    {
     "name": "stdout",
     "output_type": "stream",
     "text": [
      "[0, 1, 2, 3, 4]\n",
      "[8, 2]\n"
     ]
    }
   ],
   "source": [
    "x = [8,2]\n",
    "\n",
    "print([x for x in range(5)])\n",
    "print(x)"
   ]
  },
  {
   "cell_type": "code",
   "execution_count": null,
   "id": "0b6f1726",
   "metadata": {},
   "outputs": [],
   "source": [
    "# day 2    exercises\n",
    "\n",
    "cricket=['KL Rahul','Sacchin','Virat kohli']\n",
    "\n",
    "for batsman in cricket:\n",
    "    print(batsman)\n",
    "print(cricket[1:3])\n",
    "\n",
    "for i in range(1,5):\n",
    "    print(i)\n",
    "for i,batsman in enumerate(cricket,1):\n",
    "    print(i,batsman)"
   ]
  },
  {
   "cell_type": "code",
   "execution_count": 69,
   "id": "444db0c1",
   "metadata": {},
   "outputs": [
    {
     "name": "stdout",
     "output_type": "stream",
     "text": [
      "['KL Rahul', 'Sacchin', 'Virat kohli', 'gangully', 'KL Rahul', 'Sacchin', 'Virat kohli', 'gangully']\n"
     ]
    }
   ],
   "source": [
    "cricket=['KL Rahul','Sacchin','Virat kohli','gangully']\n",
    "cricket2=['Kane williamson','David warner']\n",
    "# cricket.extend(cricket2)\n",
    "# print(cricket)\n",
    "print(cricket*2)\n",
    "\n",
    "\n",
    "# x = zip(cricket,cricket2)\n",
    "\n",
    "# #for i in x:\n",
    "# #    print(i)\n",
    "    \n",
    "# print(dict(x))"
   ]
  },
  {
   "cell_type": "code",
   "execution_count": 48,
   "id": "1806faf3",
   "metadata": {},
   "outputs": [
    {
     "name": "stdout",
     "output_type": "stream",
     "text": [
      "Hello we will be discussing about on statements Multiline, singleline,assignement, print... so on\n",
      "this is the first practice session on python\n",
      "I have to complete so many sessions\n",
      "here is the list of the sessions \n",
      "114\n",
      "Non empty string\n",
      "empty string\n"
     ]
    }
   ],
   "source": [
    "# Python statements - back slash is used for continuation \n",
    "sample=\"Hello we will be discussing about on statements\" \\\n",
    "        \" Multiline, singleline,assignement, print... so on\"\n",
    "print(sample)\n",
    "\n",
    "sample1 = \"\"\"this is the first practice session on python\n",
    "I have to complete so many sessions\n",
    "here is the list of the sessions \"\"\"\n",
    "sample2 =\"\"\n",
    "print(sample1)\n",
    "print(len(sample1))\n",
    "\n",
    "if len(sample1) > 0:\n",
    "    print(\"Non empty string\")\n",
    "else:\n",
    "    print(\"empty string\")\n",
    "    \n",
    "\n",
    "\n",
    "if len(sample2) > 0:\n",
    "    print(\"Non empty string\")\n",
    "else:\n",
    "    print(\"empty string\")\n",
    "    \n"
   ]
  },
  {
   "cell_type": "code",
   "execution_count": null,
   "id": "661952cd",
   "metadata": {},
   "outputs": [],
   "source": [
    "#conditional statements\n",
    "# if<condition>:\n",
    "#     statements\n",
    "# else:\n",
    "#     statements\n",
    "    \n",
    "# if<condition>:\n",
    "#     .......\n",
    "# elif<condition 2>:\n",
    "#     .......\n",
    "# elif<condition 3>:\n",
    "#     ......\n",
    "# else:\n",
    "#     .......\n",
    "\n",
    "    "
   ]
  },
  {
   "cell_type": "code",
   "execution_count": null,
   "id": "0f2a3f7f",
   "metadata": {},
   "outputs": [],
   "source": [
    "# exceptional handling\n",
    "\n",
    "try:\n",
    "    devbyzero = 5/0  \n",
    "except ZeroDivisionError as err1:\n",
    "        print(\"Hey denominator cannot be zero... please try with non zero\")\n",
    "try:\n",
    "    multiply = 0/\"sandeep\"\n",
    "except ZeroDivisionError as err1:\n",
    "        print(\"Hey denominator cannot be zero... please try with non zero\")\n",
    "except Exception as e:\n",
    "        print(e)\n",
    "else:\n",
    "    print(\"there is no exception\")\n",
    "    print(f\"the result is {multiply}\")\n",
    "finally:\n",
    "    print(\"this is final block\")"
   ]
  },
  {
   "cell_type": "code",
   "execution_count": null,
   "id": "cba5c8b9",
   "metadata": {},
   "outputs": [],
   "source": []
  },
  {
   "cell_type": "code",
   "execution_count": null,
   "id": "2960afc6",
   "metadata": {},
   "outputs": [],
   "source": []
  },
  {
   "cell_type": "code",
   "execution_count": null,
   "id": "8c238cf1",
   "metadata": {},
   "outputs": [],
   "source": []
  },
  {
   "cell_type": "code",
   "execution_count": null,
   "id": "a5838900",
   "metadata": {},
   "outputs": [],
   "source": []
  }
 ],
 "metadata": {
  "kernelspec": {
   "display_name": "Python 3",
   "language": "python",
   "name": "python3"
  },
  "language_info": {
   "codemirror_mode": {
    "name": "ipython",
    "version": 3
   },
   "file_extension": ".py",
   "mimetype": "text/x-python",
   "name": "python",
   "nbconvert_exporter": "python",
   "pygments_lexer": "ipython3",
   "version": "3.8.8"
  }
 },
 "nbformat": 4,
 "nbformat_minor": 5
}
