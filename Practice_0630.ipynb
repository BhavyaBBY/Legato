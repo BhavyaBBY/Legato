{
 "cells": [
  {
   "cell_type": "code",
   "execution_count": null,
   "id": "fa5dd0c2",
   "metadata": {},
   "outputs": [],
   "source": [
    "Print(\"hello\")"
   ]
  },
  {
   "cell_type": "code",
   "execution_count": null,
   "id": "876baf86",
   "metadata": {},
   "outputs": [],
   "source": [
    "print(\"Hello\");"
   ]
  },
  {
   "cell_type": "code",
   "execution_count": null,
   "id": "f5bfe644",
   "metadata": {},
   "outputs": [],
   "source": [
    "a = 104.000\n",
    "type(a)\n",
    "b = 30\n",
    "c = a + b\n",
    "print(c);"
   ]
  },
  {
   "cell_type": "code",
   "execution_count": null,
   "id": "ee0ab212",
   "metadata": {},
   "outputs": [],
   "source": [
    "# control + enter to run the kernel\n",
    "# control + forward slash - to comment multiple lines at a time\n",
    "# kjdslfjk\n",
    "# ksdjfjkjd\n",
    "# kdsfsdh\n",
    "'''akdkjfks\n",
    "jkhkhkhkhk\n",
    "khkjhkhk\n",
    "hkhkjhk''';\n"
   ]
  },
  {
   "cell_type": "code",
   "execution_count": null,
   "id": "81dd1cea",
   "metadata": {},
   "outputs": [],
   "source": [
    "a = b = c = 1"
   ]
  },
  {
   "cell_type": "code",
   "execution_count": null,
   "id": "30075b92",
   "metadata": {},
   "outputs": [],
   "source": [
    "a,b,c = 1,2,\"John\"\n",
    "a\n",
    "b"
   ]
  },
  {
   "cell_type": "code",
   "execution_count": null,
   "id": "e672a5b6",
   "metadata": {},
   "outputs": [],
   "source": [
    "a = \"holiday\"\n",
    "b = \"today\"\n",
    "print(a)\n",
    "print(a[0])\n",
    "print(a[2:5])\n",
    "print(a[2:])\n",
    "print(2*b)\n",
    "print(a + \" holiday\")\n",
    "print(a +\" \" + b)\n",
    "print(a +\" \" + a)\n",
    "# a[0:2]\n",
    "a.find('day')\n",
    "a.replace('day','imonth')\n",
    "print(\"I want to declare {} is {}\".format(b,a))\n",
    "print(f\"I want to declare {a} - {b}\")\n",
    "a.replace(a[a.find('h')],'M')\n",
    "#dir(a)\n",
    "# variable can be deleted using below syntax\n",
    "#del a\n",
    "b"
   ]
  },
  {
   "cell_type": "code",
   "execution_count": null,
   "id": "464e07f2",
   "metadata": {},
   "outputs": [],
   "source": [
    "list = ['bhavya','priyanka','Anasuya',2]\n",
    "Tinylist = ['1',2.000,'Practice']\n",
    "print(list)\n",
    "print(list[:])\n",
    "print(list[0:2])\n",
    "print(list[1:3])\n",
    "print(list*2)\n",
    "print(list + Tinylist) \n",
    "print(type(list))\n",
    "list[-2:]\n",
    "print(dir(list))\n",
    "list.append('Bhavyabb') # append in the last \n",
    "list.pop(2) #will delete that particular index\n",
    "print(list)"
   ]
  },
  {
   "cell_type": "code",
   "execution_count": null,
   "id": "b33dfce1",
   "metadata": {},
   "outputs": [],
   "source": [
    "list.pop(2)"
   ]
  },
  {
   "cell_type": "code",
   "execution_count": null,
   "id": "276e9427",
   "metadata": {},
   "outputs": [],
   "source": [
    "# tuple is read only list, it is denoted in parenthesis as below, we can able to modify or delete the data in tupple\n",
    "list = ('bhavya','priyanka','Anasuya')\n",
    "Tinylist = ('1','2.000','Practice')\n",
    "print(list)\n",
    "print(list[:])\n",
    "print(list[0:2])\n",
    "print(list[1:3])\n",
    "print(list*2)\n",
    "print(list + Tinylist) \n",
    "print(list[-2:])\n",
    "dir(list)\n"
   ]
  },
  {
   "cell_type": "code",
   "execution_count": null,
   "id": "22d219af",
   "metadata": {},
   "outputs": [],
   "source": [
    "#dictionary \n",
    "list={}\n",
    "list['one']= \"this is the first set\"\n",
    "list[2] = \"this second set\"\n",
    "list1 ={'name': 'bhavya','age':16,'city':'bangalore'}\n",
    "print(list1)\n",
    "print(list1.keys())\n",
    "print(list1.values())\n",
    "print(list['one'])\n",
    "print(list[2])\n",
    "print(list)\n",
    "\n",
    "del list1['age']\n",
    "\n",
    "\n",
    "list1.pop('city')\n",
    "list1['education'] = 'Btech'\n",
    "list1['height'] = 5.6\n",
    "print(list1.items())\n",
    "\n",
    "#popitem delete the data from the last\n",
    "list1.popitem()\n",
    "print(list1)\n",
    "\n",
    "#dictionary won't support the duplicate values for the same key, instead it update the value and return the latest value\n"
   ]
  },
  {
   "cell_type": "code",
   "execution_count": null,
   "id": "51ccd099",
   "metadata": {},
   "outputs": [],
   "source": [
    "list1.items()"
   ]
  },
  {
   "cell_type": "code",
   "execution_count": null,
   "id": "e1c4cc43",
   "metadata": {},
   "outputs": [],
   "source": [
    "list1['name']=['anasuya','bhavya',2]\n",
    "list1.items()\n",
    "print(list1['name'])\n",
    "list1.items()"
   ]
  },
  {
   "cell_type": "code",
   "execution_count": null,
   "id": "aee06feb",
   "metadata": {},
   "outputs": [],
   "source": [
    "    shares ={'appl':100 ,'goog':50}\n",
    "list(shares)\n"
   ]
  },
  {
   "cell_type": "code",
   "execution_count": null,
   "id": "1eea6e1f",
   "metadata": {},
   "outputs": [],
   "source": []
  },
  {
   "cell_type": "code",
   "execution_count": null,
   "id": "e6878cef",
   "metadata": {},
   "outputs": [],
   "source": [
    "x = [8,2]\n",
    "\n",
    "print([x for x in range(5)])\n",
    "print(x)"
   ]
  },
  {
   "cell_type": "code",
   "execution_count": null,
   "id": "0b6f1726",
   "metadata": {},
   "outputs": [],
   "source": [
    "# day 2    exercises\n",
    "\n",
    "cricket=['KL Rahul','Sacchin','Virat kohli']\n",
    "\n",
    "for batsman in cricket:\n",
    "    print(batsman)\n",
    "print(cricket[1:3])\n",
    "\n",
    "for i in range(1,5):\n",
    "    print(i)\n",
    "for i,batsman in enumerate(cricket,1):\n",
    "    print(i,batsman)"
   ]
  },
  {
   "cell_type": "code",
   "execution_count": null,
   "id": "444db0c1",
   "metadata": {},
   "outputs": [],
   "source": [
    "cricket=['KL Rahul','Sacchin','Virat kohli','gangully']\n",
    "cricket2=['Kane williamson','David warner']\n",
    "# cricket.extend(cricket2)\n",
    "# print(cricket)\n",
    "print(cricket*2)\n",
    "\n",
    "\n",
    "# x = zip(cricket,cricket2)\n",
    "\n",
    "# #for i in x:\n",
    "# #    print(i)\n",
    "    \n",
    "# print(dict(x))"
   ]
  },
  {
   "cell_type": "code",
   "execution_count": null,
   "id": "1806faf3",
   "metadata": {},
   "outputs": [],
   "source": [
    "# Python statements - back slash is used for continuation \n",
    "sample=\"Hello we will be discussing about on statements\" \\\n",
    "        \" Multiline, singleline,assignement, print... so on\"\n",
    "print(sample)\n",
    "\n",
    "sample1 = \"\"\"this is the first practice session on python\n",
    "I have to complete so many sessions\n",
    "here is the list of the sessions \"\"\"\n",
    "sample2 =\"\"\n",
    "print(sample1)\n",
    "print(len(sample1))\n",
    "\n",
    "if len(sample1) > 0:\n",
    "    print(\"Non empty string\")\n",
    "else:\n",
    "    print(\"empty string\")\n",
    "    \n",
    "\n",
    "\n",
    "if len(sample2) > 0:\n",
    "    print(\"Non empty string\")\n",
    "else:\n",
    "    print(\"empty string\")\n",
    "    \n"
   ]
  },
  {
   "cell_type": "code",
   "execution_count": null,
   "id": "661952cd",
   "metadata": {},
   "outputs": [],
   "source": [
    "#conditional statements\n",
    "# if<condition>:\n",
    "#     statements\n",
    "# else:\n",
    "#     statements\n",
    "    \n",
    "# if<condition>:\n",
    "#     .......\n",
    "# elif<condition 2>:\n",
    "#     .......\n",
    "# elif<condition 3>:\n",
    "#     ......\n",
    "# else:\n",
    "#     .......\n",
    "\n",
    "    "
   ]
  },
  {
   "cell_type": "code",
   "execution_count": null,
   "id": "0f2a3f7f",
   "metadata": {},
   "outputs": [],
   "source": [
    "# exceptional handling\n",
    "\n",
    "try:\n",
    "    devbyzero = 5/0  \n",
    "except ZeroDivisionError as err1:\n",
    "        print(\"Hey denominator cannot be zero... please try with non zero\")\n",
    "try:\n",
    "    multiply = 0/\"sandeep\"\n",
    "except ZeroDivisionError as err1:\n",
    "        print(\"Hey denominator cannot be zero... please try with non zero\")\n",
    "except Exception as e:\n",
    "        print(e)\n",
    "else:\n",
    "    print(\"there is no exception\")\n",
    "    print(f\"the result is {multiply}\")\n",
    "finally:\n",
    "    print(\"this is final block\")"
   ]
  },
  {
   "cell_type": "code",
   "execution_count": 1,
   "id": "cba5c8b9",
   "metadata": {},
   "outputs": [
    {
     "name": "stdout",
     "output_type": "stream",
     "text": [
      "SAM\n"
     ]
    }
   ],
   "source": [
    "name = 'Sam'\n",
    "upp_converter = name.upper()\n",
    "print(upp_converter)\n"
   ]
  },
  {
   "cell_type": "code",
   "execution_count": null,
   "id": "2960afc6",
   "metadata": {},
   "outputs": [
    {
     "name": "stdout",
     "output_type": "stream",
     "text": [
      "\n",
      "Welcome to Python 3.9's help utility!\n",
      "\n",
      "If this is your first time using Python, you should definitely check out\n",
      "the tutorial on the Internet at https://docs.python.org/3.9/tutorial/.\n",
      "\n",
      "Enter the name of any module, keyword, or topic to get help on writing\n",
      "Python programs and using Python modules.  To quit this help utility and\n",
      "return to the interpreter, just type \"quit\".\n",
      "\n",
      "To get a list of available modules, keywords, symbols, or topics, type\n",
      "\"modules\", \"keywords\", \"symbols\", or \"topics\".  Each module also comes\n",
      "with a one-line summary of what it does; to list the modules whose name\n",
      "or summary contain a given string such as \"spam\", type \"modules spam\".\n",
      "\n",
      "help> keywords\n",
      "\n",
      "Here is a list of the Python keywords.  Enter any keyword to get more help.\n",
      "\n",
      "False               break               for                 not\n",
      "None                class               from                or\n",
      "True                continue            global              pass\n",
      "__peg_parser__      def                 if                  raise\n",
      "and                 del                 import              return\n",
      "as                  elif                in                  try\n",
      "assert              else                is                  while\n",
      "async               except              lambda              with\n",
      "await               finally             nonlocal            yield\n",
      "\n"
     ]
    }
   ],
   "source": [
    "help()\n"
   ]
  },
  {
   "cell_type": "code",
   "execution_count": 7,
   "id": "8c238cf1",
   "metadata": {},
   "outputs": [
    {
     "name": "stdout",
     "output_type": "stream",
     "text": [
      "Sumanth\n",
      "Sumanth\n",
      "Sumanth\n",
      "1\n",
      "2\n",
      "3\n",
      "4\n",
      "range(0, 7)\n",
      "1\n",
      "3\n",
      "5\n"
     ]
    }
   ],
   "source": [
    "name = 'Sumanth'\n",
    "\n",
    "for i in range(3):\n",
    "    print(name)\n",
    "for i in range(1,5):\n",
    "    print(i)\n",
    "    \n",
    "print(range(7))\n",
    "\n",
    "for x in range(1,7,2):\n",
    "    print(x)"
   ]
  },
  {
   "cell_type": "code",
   "execution_count": 16,
   "id": "a5838900",
   "metadata": {},
   "outputs": [
    {
     "name": "stdout",
     "output_type": "stream",
     "text": [
      "[0, 1, 2, 3, 4]\n",
      "1 0\n",
      "2 1\n",
      "3 2\n",
      "4 3\n",
      "5 4\n"
     ]
    },
    {
     "data": {
      "text/plain": [
       "2"
      ]
     },
     "execution_count": 16,
     "metadata": {},
     "output_type": "execute_result"
    }
   ],
   "source": [
    "l_5 = list(range(5))\n",
    "print(l_5)\n",
    "\n",
    "for i,x in enumerate(l_5,1):\n",
    "    print(i,x)\n",
    "# exponential\n",
    "2**4\n",
    "# 2/2 output is in float - 1.0\n",
    "# 2//2 output is not in float - 1\n",
    "\n",
    "2//2\n",
    "# module gives remaindeer\n",
    "5%3"
   ]
  },
  {
   "cell_type": "code",
   "execution_count": 18,
   "id": "d35b5a1f",
   "metadata": {},
   "outputs": [
    {
     "name": "stdout",
     "output_type": "stream",
     "text": [
      "0\n",
      "0\n",
      "\n",
      "1\n",
      "2\n",
      "\n",
      "2\n",
      "4\n",
      "\n",
      "3\n",
      "6\n",
      "\n",
      "4\n",
      "8\n",
      "\n"
     ]
    },
    {
     "data": {
      "text/plain": [
       "'\\ndoddpifopi\\n'"
      ]
     },
     "execution_count": 18,
     "metadata": {},
     "output_type": "execute_result"
    }
   ],
   "source": [
    "for r in range(5):\n",
    "    print(r)\n",
    "    print(r*2)\n",
    "    print()\n"
   ]
  },
  {
   "cell_type": "code",
   "execution_count": 22,
   "id": "dd93714f",
   "metadata": {},
   "outputs": [
    {
     "data": {
      "text/plain": [
       "'egelloc'"
      ]
     },
     "execution_count": 22,
     "metadata": {},
     "output_type": "execute_result"
    }
   ],
   "source": [
    "var_1 = 'college'\n",
    "var_1[::2]\n",
    "var_1[::-1]"
   ]
  },
  {
   "cell_type": "code",
   "execution_count": 5,
   "id": "1435b495",
   "metadata": {},
   "outputs": [
    {
     "name": "stdout",
     "output_type": "stream",
     "text": [
      "Pchool\n",
      "P chool\n",
      "\n",
      "Tchool\n",
      "T chool\n",
      "\n",
      "Jchool\n",
      "J chool\n",
      "\n",
      "Bchool\n",
      "B chool\n",
      "\n"
     ]
    }
   ],
   "source": [
    "var_2 = 'School'\n",
    "var_3 = 'PTJB'\n",
    "for letter in var_3:\n",
    "    print(letter + var_2[1:])\n",
    "    print(letter , var_2[1:])\n",
    "    print()"
   ]
  },
  {
   "cell_type": "code",
   "execution_count": 2,
   "id": "41b1aa2b",
   "metadata": {},
   "outputs": [
    {
     "name": "stdout",
     "output_type": "stream",
     "text": [
      "hello!!!\n",
      "enter the name Sumanth\n",
      "hello Sumanth\n"
     ]
    }
   ],
   "source": [
    "def Hello():\n",
    "    print('hello!!!')\n",
    "Hello()\n",
    "def Hello(name):\n",
    "    name = input(\"enter the name \")\n",
    "    print('hello ' + name)\n",
    "Hello('name')"
   ]
  },
  {
   "cell_type": "code",
   "execution_count": 8,
   "id": "3e7b1cac",
   "metadata": {},
   "outputs": [
    {
     "name": "stdout",
     "output_type": "stream",
     "text": [
      "Sam\n",
      "Sam\n",
      "Sam\n",
      "Sam\n"
     ]
    }
   ],
   "source": [
    "def blank_2():\n",
    "    print('Sam')\n",
    "    print('Sam')\n",
    "def blank4():\n",
    "    blank_2()\n",
    "    blank_2()\n",
    "blank4()"
   ]
  },
  {
   "cell_type": "code",
   "execution_count": 14,
   "id": "9924d67c",
   "metadata": {},
   "outputs": [
    {
     "name": "stdout",
     "output_type": "stream",
     "text": [
      "6 is even number\n",
      "4 is even number\n",
      "8 is even number\n"
     ]
    }
   ],
   "source": [
    "numbers = [1, 3,5, 7, 6, 4,9,8]\n",
    "\n",
    "for number in numbers:\n",
    "    if number % 2 == 0:\n",
    "        print(number, \"is even number\")\n",
    "    else:\n",
    "        print(number, \"is odd number\")\n",
    "            "
   ]
  },
  {
   "cell_type": "code",
   "execution_count": 17,
   "id": "6c3aba4f",
   "metadata": {},
   "outputs": [
    {
     "name": "stdout",
     "output_type": "stream",
     "text": [
      "1  is positive odd number\n",
      "-3  is negative odd number\n",
      "5  is positive odd number\n",
      "-7  is negative odd number\n",
      "6  is positive even number\n",
      "-4  is negative even number\n",
      "9  is positive odd number\n",
      "8  is positive even number\n"
     ]
    }
   ],
   "source": [
    "numbers = [1, -3,5, -7, 6, -4,9,8]\n",
    "for number in numbers:\n",
    "    if number % 2 == 0:\n",
    "        if number > 0:\n",
    "            print(number, \" is positive even number\")\n",
    "        else:\n",
    "            print(number, \" is negative even number\")\n",
    "    else:\n",
    "        if number > 0:\n",
    "            print(number, \" is positive odd number\")\n",
    "        else:\n",
    "            print(number, \" is negative odd number\")"
   ]
  },
  {
   "cell_type": "code",
   "execution_count": 21,
   "id": "9919defd",
   "metadata": {},
   "outputs": [
    {
     "name": "stdout",
     "output_type": "stream",
     "text": [
      "1 is positive number\n",
      "-3 is negative number\n",
      "5 is positive number\n",
      "-7 is negative number\n",
      "6 is positive number\n",
      "-4 is negative number\n",
      "9 is positive number\n",
      "8 is positive number\n",
      "0 is zero\n"
     ]
    }
   ],
   "source": [
    "numbers = [1, -3,5, -7, 6, -4,9,8,0]\n",
    "for number in numbers:\n",
    "    if number == 0:\n",
    "        print(number, \"is zero\")\n",
    "    elif number > 0:\n",
    "        print(number, \"is positive number\")\n",
    "    else:\n",
    "        print(number, \"is negative number\")"
   ]
  },
  {
   "cell_type": "code",
   "execution_count": 24,
   "id": "3b4855c4",
   "metadata": {},
   "outputs": [
    {
     "name": "stdout",
     "output_type": "stream",
     "text": [
      "True\n"
     ]
    }
   ],
   "source": [
    "def even(x):\n",
    "    if x % 2 == 0:\n",
    "        return True\n",
    "print(even(4))\n"
   ]
  },
  {
   "cell_type": "code",
   "execution_count": 27,
   "id": "bb20dbf6",
   "metadata": {},
   "outputs": [
    {
     "name": "stdout",
     "output_type": "stream",
     "text": [
      "False\n"
     ]
    }
   ],
   "source": [
    "def even(x):\n",
    "    return x % 2 == 0\n",
    "       \n",
    "print(even(5))\n"
   ]
  },
  {
   "cell_type": "code",
   "execution_count": 3,
   "id": "d589b130",
   "metadata": {},
   "outputs": [
    {
     "name": "stdout",
     "output_type": "stream",
     "text": [
      "0123\n",
      "0123\n",
      "0123\n",
      "0123\n",
      "0123\n"
     ]
    }
   ],
   "source": [
    "for row in range(5):\n",
    "    for column in range(4):\n",
    "        print(column,end='')\n",
    "    print()"
   ]
  }
 ],
 "metadata": {
  "kernelspec": {
   "display_name": "Python 3 (ipykernel)",
   "language": "python",
   "name": "python3"
  },
  "language_info": {
   "codemirror_mode": {
    "name": "ipython",
    "version": 3
   },
   "file_extension": ".py",
   "mimetype": "text/x-python",
   "name": "python",
   "nbconvert_exporter": "python",
   "pygments_lexer": "ipython3",
   "version": "3.9.12"
  }
 },
 "nbformat": 4,
 "nbformat_minor": 5
}
